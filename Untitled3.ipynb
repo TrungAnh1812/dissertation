{
 "cells": [
  {
   "cell_type": "code",
   "execution_count": 1,
   "metadata": {},
   "outputs": [],
   "source": [
    "import pandas as pd \n",
    "dateparse = lambda x: pd.datetime.strptime(x, '%d/%m/%Y')\n",
    "\n",
    "ally = pd.read_csv('data/ally.csv', index_col=\"Date\", usecols=[\"Date\", \"Open\", \"High\", \"Low\", \"Close\", \"Volume\", \"Rate\"],\n",
    "        parse_dates=[\"Date\"], date_parser=dateparse)\n",
    "axp = pd.read_csv('data/axp.csv', index_col=\"Date\", usecols=[\"Date\", \"Open\", \"High\", \"Low\", \"Close\", \"Volume\", \"Rate\"],\n",
    "        parse_dates=[\"Date\"], date_parser=dateparse)\n",
    "bac = pd.read_csv('data/bac.csv', index_col=\"Date\", usecols=[\"Date\", \"Open\", \"High\", \"Low\", \"Close\", \"Volume\", \"Rate\"],\n",
    "        parse_dates=[\"Date\"], date_parser=dateparse)\n",
    "bbt = pd.read_csv('data/bbt.csv', index_col=\"Date\", usecols=[\"Date\", \"Open\", \"High\", \"Low\", \"Close\", \"Volume\", \"Rate\"],\n",
    "        parse_dates=[\"Date\"], date_parser=dateparse)\n",
    "bbva = pd.read_csv('data/bbva.csv', index_col=\"Date\", usecols=[\"Date\", \"Open\", \"High\", \"Low\", \"Close\", \"Volume\", \"Rate\"],\n",
    "        parse_dates=[\"Date\"], date_parser=dateparse)\n",
    "bcs = pd.read_csv('data/bcs.csv', index_col=\"Date\", usecols=[\"Date\", \"Open\", \"High\", \"Low\", \"Close\", \"Volume\", \"Rate\"],\n",
    "        parse_dates=[\"Date\"], date_parser=dateparse)\n",
    "bk = pd.read_csv('data/bk.csv', index_col=\"Date\", usecols=[\"Date\", \"Open\", \"High\", \"Low\", \"Close\", \"Volume\", \"Rate\"],\n",
    "        parse_dates=[\"Date\"], date_parser=dateparse)\n",
    "bku = pd.read_csv('data/bku.csv', index_col=\"Date\", usecols=[\"Date\", \"Open\", \"High\", \"Low\", \"Close\", \"Volume\", \"Rate\"],\n",
    "        parse_dates=[\"Date\"], date_parser=dateparse)\n",
    "cfg = pd.read_csv('data/cfg.csv', index_col=\"Date\", usecols=[\"Date\", \"Open\", \"High\", \"Low\", \"Close\", \"Volume\", \"Rate\"],\n",
    "        parse_dates=[\"Date\"], date_parser=dateparse)\n",
    "citi = pd.read_csv('data/citi.csv', index_col=\"Date\", usecols=[\"Date\", \"Open\", \"High\", \"Low\", \"Close\", \"Volume\", \"Rate\"],\n",
    "        parse_dates=[\"Date\"], date_parser=dateparse)\n",
    "cof = pd.read_csv('data/cof.csv', index_col=\"Date\", usecols=[\"Date\", \"Open\", \"High\", \"Low\", \"Close\", \"Volume\", \"Rate\"],\n",
    "        parse_dates=[\"Date\"], date_parser=dateparse)\n",
    "dfs = pd.read_csv('data/dfs.csv', index_col=\"Date\", usecols=[\"Date\", \"Open\", \"High\", \"Low\", \"Close\", \"Volume\", \"Rate\"],\n",
    "        parse_dates=[\"Date\"], date_parser=dateparse)\n",
    "fbp = pd.read_csv('data/fbp.csv', index_col=\"Date\", usecols=[\"Date\", \"Open\", \"High\", \"Low\", \"Close\", \"Volume\", \"Rate\"],\n",
    "        parse_dates=[\"Date\"], date_parser=dateparse)\n",
    "fmbi = pd.read_csv('data/fmbi.csv', index_col=\"Date\", usecols=[\"Date\", \"Open\", \"High\", \"Low\", \"Close\", \"Volume\", \"Rate\"],\n",
    "        parse_dates=[\"Date\"], date_parser=dateparse)\n",
    "gs = pd.read_csv('data/gs.csv', index_col=\"Date\", usecols=[\"Date\", \"Open\", \"High\", \"Low\", \"Close\", \"Volume\", \"Rate\"],\n",
    "        parse_dates=[\"Date\"], date_parser=dateparse)\n",
    "hsbc = pd.read_csv('data/hsbc.csv', index_col=\"Date\", usecols=[\"Date\", \"Open\", \"High\", \"Low\", \"Close\", \"Volume\", \"Rate\"],\n",
    "        parse_dates=[\"Date\"], date_parser=dateparse)\n",
    "jpm = pd.read_csv('data/jpm.csv', index_col=\"Date\", usecols=[\"Date\", \"Open\", \"High\", \"Low\", \"Close\", \"Volume\", \"Rate\"],\n",
    "        parse_dates=[\"Date\"], date_parser=dateparse)\n",
    "ms = pd.read_csv('data/ms.csv', index_col=\"Date\", usecols=[\"Date\", \"Open\", \"High\", \"Low\", \"Close\", \"Volume\", \"Rate\"],\n",
    "        parse_dates=[\"Date\"], date_parser=dateparse)\n",
    "pnc = pd.read_csv('data/pnc.csv', index_col=\"Date\", usecols=[\"Date\", \"Open\", \"High\", \"Low\", \"Close\", \"Volume\", \"Rate\"],\n",
    "        parse_dates=[\"Date\"], date_parser=dateparse)\n",
    "schw = pd.read_csv('data/schw.csv', index_col=\"Date\", usecols=[\"Date\", \"Open\", \"High\", \"Low\", \"Close\", \"Volume\", \"Rate\"],\n",
    "        parse_dates=[\"Date\"], date_parser=dateparse)\n",
    "snv = pd.read_csv('data/snv.csv', index_col=\"Date\", usecols=[\"Date\", \"Open\", \"High\", \"Low\", \"Close\", \"Volume\", \"Rate\"],\n",
    "        parse_dates=[\"Date\"], date_parser=dateparse)\n",
    "sti = pd.read_csv('data/sti.csv', index_col=\"Date\", usecols=[\"Date\", \"Open\", \"High\", \"Low\", \"Close\", \"Volume\", \"Rate\"],\n",
    "        parse_dates=[\"Date\"], date_parser=dateparse)\n",
    "stt = pd.read_csv('data/stt.csv', index_col=\"Date\", usecols=[\"Date\", \"Open\", \"High\", \"Low\", \"Close\", \"Volume\", \"Rate\"],\n",
    "        parse_dates=[\"Date\"], date_parser=dateparse)\n",
    "td = pd.read_csv('data/td.csv', index_col=\"Date\", usecols=[\"Date\", \"Open\", \"High\", \"Low\", \"Close\", \"Volume\", \"Rate\"],\n",
    "        parse_dates=[\"Date\"], date_parser=dateparse)\n",
    "usb = pd.read_csv('data/usb.csv', index_col=\"Date\", usecols=[\"Date\", \"Open\", \"High\", \"Low\", \"Close\", \"Volume\", \"Rate\"],\n",
    "        parse_dates=[\"Date\"], date_parser=dateparse)\n",
    "wfc = pd.read_csv('data/wfc.csv', index_col=\"Date\", usecols=[\"Date\", \"Open\", \"High\", \"Low\", \"Close\", \"Volume\", \"Rate\"],\n",
    "        parse_dates=[\"Date\"], date_parser=dateparse)"
   ]
  },
  {
   "cell_type": "code",
   "execution_count": 2,
   "metadata": {},
   "outputs": [],
   "source": [
    "ds = [ally, axp, bac, bbt,bbva,bcs,bk,bku,cfg,citi,cof,dfs,fbp,fmbi,gs,hsbc,jpm,ms,pnc,schw,snv,sti,stt,td,usb,wfc]\n",
    "\n",
    "for i in ds:\n",
    "    i['Rate'] = i['Rate'].map({'C':21,'Ca':20,'Caa3':19,'Caa2':18,'Caa1':17,'B3':16,'B2':15,'B1':14,'Ba3':13,'Ba2':12,'Ba1':11,'Baa3':10,'Baa2':9,'Baa1':8,'A3':7,'A2':6,'A1':5,'Aa3':14,'Aa2':3,'Aa1':2,'Aaa':1})\n",
    "    "
   ]
  },
  {
   "cell_type": "code",
   "execution_count": 3,
   "metadata": {},
   "outputs": [
    {
     "name": "stdout",
     "output_type": "stream",
     "text": [
      "[14 13]\n",
      "[5 6 7]\n",
      "[ 6  5 14  3  2  8  9  7]\n",
      "[ 6  5 14]\n",
      "[ 5 14  6  7  9 10]\n",
      "[ 1  2  3 14  6  5]\n",
      "[ 2 14  6  5  3  1]\n",
      "[10 11]\n",
      "[7 8]\n",
      "[ 1  2  3  5  6 14  7]\n",
      "[11 10  8  7]\n",
      "[ 9 10]\n",
      "[ 9 11 12 14 16 18 17]\n",
      "[7 6 8 9]\n",
      "[ 5 14  7  8]\n",
      "[ 5 14  3]\n",
      "[ 6  5 14  3  7]\n",
      "[14  5  6  8  9  7]\n",
      "[6 5 7]\n",
      "[7 6]\n",
      "[ 7  6  5 13 14 12 11]\n",
      "[ 5 14  8]\n",
      "[ 5 14  6]\n",
      "[ 8  7  6  5  3 14  2]\n",
      "[ 6  5 14  3]\n",
      "[14  3  2  5  6]\n"
     ]
    }
   ],
   "source": [
    "for i in ds:\n",
    "    print(i['Rate'].unique())"
   ]
  },
  {
   "cell_type": "code",
   "execution_count": 4,
   "metadata": {},
   "outputs": [],
   "source": [
    "for i in ds:\n",
    "    temp = i['Rate'].unique()\n",
    "    temp_rep = [1]\n",
    "    for j in range(1,len(temp)):\n",
    "        if temp[j] > temp[j-1]:\n",
    "            temp_rep.append(2)\n",
    "        if temp[j] < temp[j-1]:\n",
    "            temp_rep.append(3)\n",
    "        if temp[j] == temp[j-1]:\n",
    "            temp_rep.append(1)\n",
    "    for r in range(0,len(temp)):\n",
    "        i['Rate'].replace(temp[r],temp_rep[r],inplace=True)\n",
    "        "
   ]
  },
  {
   "cell_type": "code",
   "execution_count": 5,
   "metadata": {},
   "outputs": [],
   "source": [
    "data = pd.concat(ds)\n"
   ]
  },
  {
   "cell_type": "code",
   "execution_count": 6,
   "metadata": {},
   "outputs": [
    {
     "data": {
      "text/plain": [
       "(135226, 6)"
      ]
     },
     "execution_count": 6,
     "metadata": {},
     "output_type": "execute_result"
    }
   ],
   "source": [
    "data.shape"
   ]
  },
  {
   "cell_type": "code",
   "execution_count": 7,
   "metadata": {},
   "outputs": [],
   "source": [
    "import matplotlib.pyplot as plt\n",
    "import pandas as pd\n",
    "import numpy as np\n",
    "from sklearn import svm, datasets\n",
    "from sklearn.metrics import confusion_matrix\n",
    "from tslearn.preprocessing import TimeSeriesScalerMinMax\n",
    "from tslearn.svm import TimeSeriesSVC"
   ]
  },
  {
   "cell_type": "code",
   "execution_count": 8,
   "metadata": {},
   "outputs": [
    {
     "name": "stderr",
     "output_type": "stream",
     "text": [
      "C:\\Users\\ADMIN\\Anaconda3\\lib\\site-packages\\h5py\\__init__.py:36: FutureWarning: Conversion of the second argument of issubdtype from `float` to `np.floating` is deprecated. In future, it will be treated as `np.float64 == np.dtype(float).type`.\n",
      "  from ._conv import register_converters as _register_converters\n",
      "Using TensorFlow backend.\n"
     ]
    },
    {
     "name": "stdout",
     "output_type": "stream",
     "text": [
      "(4507, 30, 2)\n"
     ]
    }
   ],
   "source": [
    "# Transform the data\n",
    "\n",
    "from sklearn.preprocessing import MinMaxScaler\n",
    "\n",
    "values = data.iloc[:,:-1].values\n",
    "scaler = MinMaxScaler(feature_range=(0, 1))\n",
    "data.iloc[:,:-1] = scaler.fit_transform(values)   \n",
    "\n",
    "from numpy import array\n",
    "import numpy as np\n",
    "\n",
    "import keras \n",
    "\n",
    "#Split into samples \n",
    "samples = list()\n",
    "length = 30\n",
    "# step over the length of each bank in jumps of 30\n",
    "for i in range(0,len(data)-len(data)%length,length):\n",
    "    # grab from i to i + 30\n",
    "    sample = data[['Close','Rate']][i:i+length]\n",
    "    samples.append(sample)\n",
    "for j in range(0,len(samples)):\n",
    "    samples[j] = array(samples[j])\n",
    "    #Scaled values     \n",
    "    samples[j] = samples[j].reshape(1,length,2)\n",
    "data = np.concatenate((samples))\n",
    "print(data.shape)\n",
    "\n"
   ]
  },
  {
   "cell_type": "code",
   "execution_count": 9,
   "metadata": {},
   "outputs": [],
   "source": [
    "import itertools\n",
    "import operator\n",
    "\n",
    "def most_common(L):\n",
    "    # get an iterable of (item, iterable) pairs\n",
    "    SL = sorted((x, i) for i, x in enumerate(L))\n",
    "    # print 'SL:', SL\n",
    "    groups = itertools.groupby(SL, key=operator.itemgetter(0))\n",
    "    # auxiliary function to get \"quality\" for an item\n",
    "    def _auxfun(g):\n",
    "        item, iterable = g\n",
    "        count = 0\n",
    "        min_index = len(L)\n",
    "        for _, where in iterable:\n",
    "            count += 1\n",
    "            min_index = min(min_index, where)\n",
    "        # print 'item %r, count %r, minind %r' % (item, count, min_index)\n",
    "        return count, -min_index\n",
    "    # pick the highest-count/earliest item\n",
    "    return max(groups, key=_auxfun)[0]"
   ]
  },
  {
   "cell_type": "code",
   "execution_count": 10,
   "metadata": {},
   "outputs": [
    {
     "name": "stdout",
     "output_type": "stream",
     "text": [
      "(55, 30, 2)\n",
      "(55, 30, 1) (55,)\n"
     ]
    }
   ],
   "source": [
    "#Importing validating data\n",
    "dateparse = lambda x: pd.datetime.strptime(x, '%Y%m%d')\n",
    "\n",
    "mbb = pd.read_csv('data/excel_mbb.csv', index_col=\"Date\", usecols=[\"Date\", \"Open\", \"High\", \"Low\", \"Close\", \"Volume\", \"Rate\"],\n",
    "        parse_dates=[\"Date\"], date_parser=dateparse)\n",
    "\n",
    "mbb['Rate'] = mbb['Rate'].map({'C':21,'Ca':20,'Caa3':19,'Caa2':18,'Caa1':17,'B3':16,'B2':15,'B1':14,'Ba3':13,'Ba2':12,'Ba1':11,'Baa3':10,'Baa2':9,'Baa1':8,'A3':7,'A2':6,'A1':5,'Aa3':14,'Aa2':3,'Aa1':2,'Aaa':1})\n",
    "    \n",
    "temp = mbb['Rate'].unique()\n",
    "temp_rep = [1]\n",
    "for j in range(1,len(temp)):\n",
    "    if temp[j] > temp[j-1]:\n",
    "            temp_rep.append(2)\n",
    "    if temp[j] < temp[j-1]:\n",
    "            temp_rep.append(3)\n",
    "    if temp[j] == temp[j-1]:\n",
    "        temp_rep.append(1)\n",
    "for r in range(0,len(temp)):\n",
    "    mbb['Rate'].replace(temp[r],temp_rep[r],inplace=True)\n",
    "        \n",
    "values = mbb.iloc[:,:-1].values\n",
    "values[0:3] = values[0:3]*1000/23000\n",
    "scaler = MinMaxScaler(feature_range=(0, 1))\n",
    "mbb.iloc[:,:-1] = scaler.fit_transform(values)  \n",
    "mbb.head()\n",
    "\n",
    "#Split into samples \n",
    "samples = list()\n",
    "length = 30\n",
    "# step over the length of each bank in jumps of 30\n",
    "for i in range(0,len(mbb)-len(mbb)%length,length):\n",
    "    # grab from i to i + 30\n",
    "    sample = mbb[['Close','Rate']][i:i+length]\n",
    "    samples.append(sample)\n",
    "for j in range(0,len(samples)):\n",
    "    samples[j] = array(samples[j])\n",
    "    #Scaled values     \n",
    "    samples[j] = samples[j].reshape(1,length,2)\n",
    "validate = np.concatenate((samples))\n",
    "print(validate.shape)\n",
    "\n",
    "X_validate, y_validate = validate[:, :,:-1], validate[:, :, -1]\n",
    "\n",
    "y_valid = []\n",
    "\n",
    "for j in range(0,len(y_validate)):\n",
    "    y_valid.append(most_common(y_validate[j]))\n",
    "\n",
    "y_valid = np.asarray(y_valid)\n",
    "\n",
    "X_valid = X_validate.reshape(X_validate.shape[0],X_validate.shape[1], 1)\n",
    "print(X_valid.shape, y_valid.shape)"
   ]
  },
  {
   "cell_type": "code",
   "execution_count": 11,
   "metadata": {},
   "outputs": [
    {
     "name": "stdout",
     "output_type": "stream",
     "text": [
      "(3605, 30) (3605,) (901, 30) (901,)\n",
      "Correct classification rate: 0.4450610432852386\n",
      "             precision    recall  f1-score   support\n",
      "\n",
      "  Unchanged       0.24      0.44      0.31       137\n",
      "         UP       0.36      0.50      0.42       243\n",
      "       DOWN       0.69      0.42      0.53       521\n",
      "\n",
      "avg / total       0.54      0.45      0.46       901\n",
      "\n"
     ]
    },
    {
     "data": {
      "image/png": "[encoded data removed]",
      "text/plain": [
       "<Figure size 432x432 with 2 Axes>"
      ]
     },
     "metadata": {},
     "output_type": "display_data"
    }
   ],
   "source": [
    "# 80 - 20\n",
    "N = len(data)\n",
    "ratio = np.array([0.8,0.2])\n",
    "ratio = (ratio*N).astype(np.int32)\n",
    "num_class = 3\n",
    "\n",
    "\n",
    "ind = np.random.permutation(N)\n",
    "\n",
    "train = data[ind[:ratio[0]], :]\n",
    "test = data[ind[:ratio[1]], :]\n",
    "# split into input and outputs\n",
    "X_train, y_train_1 = train[:, :, :-1], train[:, :, -1]\n",
    "X_test, y_test_1 = test[:, :, :-1], test[:, :, -1]\n",
    "X_train = X_train.reshape(X_train.shape[0],X_train.shape[1])\n",
    "X_test = X_test.reshape(X_test.shape[0],X_test.shape[1])\n",
    "\n",
    "y_train = []\n",
    "y_test = []\n",
    "\n",
    "for i in range(0,len(y_train_1)):\n",
    "    y_train.append(most_common(y_train_1[i]))\n",
    "\n",
    "for j in range(0,len(y_test_1)):\n",
    "    y_test.append(most_common(y_test_1[j]))\n",
    "\n",
    "y_train = np.asarray(y_train)\n",
    "y_test = np.asarray(y_test)\n",
    "\n",
    "\n",
    "print(X_train.shape, y_train.shape, X_test.shape, y_test.shape)\n",
    "\n",
    "\n",
    "###USING SUPPORT VECTOR CLASSIFIER LIBRARY, OWN CODE ###\n",
    "clf = TimeSeriesSVC(kernel=\"gak\", sz=X_train.shape[1], d=1,gamma=\"auto\", probability=True)\n",
    "clf.fit(X_train, y_train)\n",
    "\n",
    "print(\"Correct classification rate: %s\" % clf.score(X_test, y_test))\n",
    "from sklearn.metrics import classification_report, confusion_matrix\n",
    "\n",
    "labels = {0: 'Unchanged', 1: 'UP', 2: 'DOWN'}\n",
    "\n",
    "label = clf.predict(X_test)\n",
    "print(classification_report(label, y_test,\n",
    "                            target_names=[l for l in labels.values()]))\n",
    "\n",
    "conf_mat = confusion_matrix(label, y_test)\n",
    "\n",
    "fig = plt.figure(figsize=(6,6))\n",
    "width = np.shape(conf_mat)[1]\n",
    "height = np.shape(conf_mat)[0]\n",
    "\n",
    "#plt.tight_layout()\n",
    "plt.ylabel('Predicted')\n",
    "plt.xlabel('Actual')\n",
    "\n",
    "res = plt.imshow(np.array(conf_mat), cmap=plt.cm.summer, interpolation='nearest')\n",
    "for i, row in enumerate(conf_mat):\n",
    "    for j, c in enumerate(row):\n",
    "        if c>0:\n",
    "            plt.text(j-.2, i+.1, c, fontsize=16)\n",
    "            \n",
    "cb = fig.colorbar(res)\n",
    "plt.title('Confusion Matrix')\n",
    "_ = plt.xticks(range(3), [l for l in labels.values()], rotation=90)\n",
    "_ = plt.yticks(range(3), [l for l in labels.values()])"
   ]
  },
  {
   "cell_type": "code",
   "execution_count": 12,
   "metadata": {},
   "outputs": [
    {
     "name": "stdout",
     "output_type": "stream",
     "text": [
      "Correct classification rate: 0.6\n"
     ]
    },
    {
     "name": "stderr",
     "output_type": "stream",
     "text": [
      "C:\\Users\\ADMIN\\Anaconda3\\lib\\site-packages\\sklearn\\metrics\\classification.py:1137: UndefinedMetricWarning: Recall and F-score are ill-defined and being set to 0.0 in labels with no true samples.\n",
      "  'recall', 'true', average, warn_for)\n"
     ]
    },
    {
     "name": "stdout",
     "output_type": "stream",
     "text": [
      "             precision    recall  f1-score   support\n",
      "\n",
      "  Unchanged       0.00      0.00      0.00         0\n",
      "         UP       1.00      0.60      0.75        55\n",
      "       DOWN       0.00      0.00      0.00         0\n",
      "\n",
      "avg / total       1.00      0.60      0.75        55\n",
      "\n"
     ]
    },
    {
     "data": {
      "image/png": "[encoded data removed]",
      "text/plain": [
       "<Figure size 432x432 with 2 Axes>"
      ]
     },
     "metadata": {},
     "output_type": "display_data"
    }
   ],
   "source": [
    "#Validate 80 - 20\n",
    "print(\"Correct classification rate: %s\" % clf.score(X_valid, y_valid))\n",
    "from sklearn.metrics import classification_report, confusion_matrix\n",
    "\n",
    "label = clf.predict(X_valid)\n",
    "print(classification_report(label, y_valid,\n",
    "                            target_names=[l for l in labels.values()]))\n",
    "\n",
    "conf_mat = confusion_matrix(label, y_valid)\n",
    "\n",
    "fig = plt.figure(figsize=(6,6))\n",
    "width = np.shape(conf_mat)[1]\n",
    "height = np.shape(conf_mat)[0]\n",
    "\n",
    "#plt.tight_layout()\n",
    "plt.ylabel('Predicted')\n",
    "plt.xlabel('Actual')\n",
    "\n",
    "res = plt.imshow(np.array(conf_mat), cmap=plt.cm.summer, interpolation='nearest')\n",
    "for i, row in enumerate(conf_mat):\n",
    "    for j, c in enumerate(row):\n",
    "        if c>0:\n",
    "            plt.text(j-.2, i+.1, c, fontsize=16)\n",
    "            \n",
    "cb = fig.colorbar(res)\n",
    "plt.title('Confusion Matrix')\n",
    "_ = plt.xticks(range(3), [l for l in labels.values()], rotation=90)\n",
    "_ = plt.yticks(range(3), [l for l in labels.values()])"
   ]
  },
  {
   "cell_type": "code",
   "execution_count": 13,
   "metadata": {},
   "outputs": [
    {
     "name": "stdout",
     "output_type": "stream",
     "text": [
      "(3154, 30) (3154,) (1352, 30) (1352,)\n",
      "Correct classification rate: 0.4460059171597633\n",
      "             precision    recall  f1-score   support\n",
      "\n",
      "  Unchanged       0.27      0.44      0.34       225\n",
      "         UP       0.36      0.50      0.42       361\n",
      "       DOWN       0.66      0.42      0.52       766\n",
      "\n",
      "avg / total       0.52      0.45      0.46      1352\n",
      "\n"
     ]
    },
    {
     "data": {
      "image/png": "[encoded data removed]",
      "text/plain": [
       "<Figure size 432x432 with 2 Axes>"
      ]
     },
     "metadata": {},
     "output_type": "display_data"
    }
   ],
   "source": [
    "# 70 - 30\n",
    "\n",
    "N = len(data)\n",
    "ratio = np.array([0.7,0.3])\n",
    "ratio = (ratio*N).astype(np.int32)\n",
    "num_class = 3\n",
    "\n",
    "ind = np.random.permutation(N)\n",
    "\n",
    "train = data[ind[:ratio[0]], :]\n",
    "test = data[ind[:ratio[1]], :]\n",
    "# split into input and outputs\n",
    "X_train, y_train_1 = train[:, :, :-1], train[:, :, -1]\n",
    "X_test, y_test_1 = test[:, :, :-1], test[:, :, -1]\n",
    "X_train = X_train.reshape(X_train.shape[0],X_train.shape[1])\n",
    "X_test = X_test.reshape(X_test.shape[0],X_test.shape[1])\n",
    "\n",
    "y_train = []\n",
    "y_test = []\n",
    "\n",
    "for i in range(0,len(y_train_1)):\n",
    "    y_train.append(most_common(y_train_1[i]))\n",
    "\n",
    "for j in range(0,len(y_test_1)):\n",
    "    y_test.append(most_common(y_test_1[j]))\n",
    "\n",
    "y_train = np.asarray(y_train)\n",
    "y_test = np.asarray(y_test)\n",
    "\n",
    "\n",
    "print(X_train.shape, y_train.shape, X_test.shape, y_test.shape)\n",
    "\n",
    "###USING SUPPORT VECTOR CLASSIFIER LIBRARY, OWN CODE ###\n",
    "clf = TimeSeriesSVC(kernel=\"gak\", sz=X_train.shape[1], d=1,gamma=\"auto\", probability=True)\n",
    "clf.fit(X_train, y_train)\n",
    "\n",
    "print(\"Correct classification rate: %s\" % clf.score(X_test, y_test))\n",
    "from sklearn.metrics import classification_report, confusion_matrix\n",
    "\n",
    "labels = {0: 'Unchanged', 1: 'UP', 2: 'DOWN'}\n",
    "\n",
    "label = clf.predict(X_test)\n",
    "print(classification_report(label, y_test,\n",
    "                            target_names=[l for l in labels.values()]))\n",
    "\n",
    "conf_mat = confusion_matrix(label, y_test)\n",
    "\n",
    "fig = plt.figure(figsize=(6,6))\n",
    "width = np.shape(conf_mat)[1]\n",
    "height = np.shape(conf_mat)[0]\n",
    "\n",
    "#plt.tight_layout()\n",
    "plt.ylabel('Predicted')\n",
    "plt.xlabel('Actual')\n",
    "\n",
    "res = plt.imshow(np.array(conf_mat), cmap=plt.cm.summer, interpolation='nearest')\n",
    "for i, row in enumerate(conf_mat):\n",
    "    for j, c in enumerate(row):\n",
    "        if c>0:\n",
    "            plt.text(j-.2, i+.1, c, fontsize=16)\n",
    "            \n",
    "cb = fig.colorbar(res)\n",
    "plt.title('Confusion Matrix')\n",
    "_ = plt.xticks(range(3), [l for l in labels.values()], rotation=90)\n",
    "_ = plt.yticks(range(3), [l for l in labels.values()])\n"
   ]
  },
  {
   "cell_type": "code",
   "execution_count": 14,
   "metadata": {},
   "outputs": [
    {
     "name": "stdout",
     "output_type": "stream",
     "text": [
      "Correct classification rate: 0.6\n"
     ]
    },
    {
     "name": "stderr",
     "output_type": "stream",
     "text": [
      "C:\\Users\\ADMIN\\Anaconda3\\lib\\site-packages\\sklearn\\metrics\\classification.py:1137: UndefinedMetricWarning: Recall and F-score are ill-defined and being set to 0.0 in labels with no true samples.\n",
      "  'recall', 'true', average, warn_for)\n"
     ]
    },
    {
     "name": "stdout",
     "output_type": "stream",
     "text": [
      "             precision    recall  f1-score   support\n",
      "\n",
      "  Unchanged       0.00      0.00      0.00         0\n",
      "         UP       1.00      0.60      0.75        55\n",
      "       DOWN       0.00      0.00      0.00         0\n",
      "\n",
      "avg / total       1.00      0.60      0.75        55\n",
      "\n"
     ]
    },
    {
     "data": {
      "image/png": "[encoded data removed]",
      "text/plain": [
       "<Figure size 432x432 with 2 Axes>"
      ]
     },
     "metadata": {},
     "output_type": "display_data"
    }
   ],
   "source": [
    "#validate 70 - 30\n",
    "\n",
    "print(\"Correct classification rate: %s\" % clf.score(X_valid, y_valid))\n",
    "\n",
    "label = clf.predict(X_valid)\n",
    "print(classification_report(label, y_valid,\n",
    "                            target_names=[l for l in labels.values()]))\n",
    "\n",
    "conf_mat = confusion_matrix(label, y_valid)\n",
    "\n",
    "fig = plt.figure(figsize=(6,6))\n",
    "width = np.shape(conf_mat)[1]\n",
    "height = np.shape(conf_mat)[0]\n",
    "\n",
    "#plt.tight_layout()\n",
    "plt.ylabel('Predicted')\n",
    "plt.xlabel('Actual')\n",
    "\n",
    "res = plt.imshow(np.array(conf_mat), cmap=plt.cm.summer, interpolation='nearest')\n",
    "for i, row in enumerate(conf_mat):\n",
    "    for j, c in enumerate(row):\n",
    "        if c>0:\n",
    "            plt.text(j-.2, i+.1, c, fontsize=16)\n",
    "            \n",
    "cb = fig.colorbar(res)\n",
    "plt.title('Confusion Matrix')\n",
    "_ = plt.xticks(range(3), [l for l in labels.values()], rotation=90)\n",
    "_ = plt.yticks(range(3), [l for l in labels.values()])"
   ]
  },
  {
   "cell_type": "code",
   "execution_count": 15,
   "metadata": {},
   "outputs": [
    {
     "name": "stdout",
     "output_type": "stream",
     "text": [
      "(4056, 30) (4056,) (450, 30) (450,)\n",
      "Correct classification rate: 0.4533333333333333\n",
      "             precision    recall  f1-score   support\n",
      "\n",
      "  Unchanged       0.35      0.55      0.43        73\n",
      "         UP       0.28      0.43      0.34       104\n",
      "       DOWN       0.69      0.44      0.53       273\n",
      "\n",
      "avg / total       0.54      0.45      0.47       450\n",
      "\n"
     ]
    },
    {
     "data": {
      "image/png": "[encoded data removed]",
      "text/plain": [
       "<Figure size 432x432 with 2 Axes>"
      ]
     },
     "metadata": {},
     "output_type": "display_data"
    }
   ],
   "source": [
    "# 90 - 10\n",
    "\n",
    "N = len(data)\n",
    "ratio = np.array([0.9,0.1])\n",
    "ratio = (ratio*N).astype(np.int32)\n",
    "num_class = 3\n",
    "\n",
    "ind = np.random.permutation(N)\n",
    "\n",
    "train = data[ind[:ratio[0]], :]\n",
    "test = data[ind[:ratio[1]], :]\n",
    "# split into input and outputs\n",
    "X_train, y_train_1 = train[:, :, :-1], train[:, :, -1]\n",
    "X_test, y_test_1 = test[:, :, :-1], test[:, :, -1]\n",
    "X_train = X_train.reshape(X_train.shape[0],X_train.shape[1])\n",
    "X_test = X_test.reshape(X_test.shape[0],X_test.shape[1])\n",
    "\n",
    "y_train = []\n",
    "y_test = []\n",
    "\n",
    "for i in range(0,len(y_train_1)):\n",
    "    y_train.append(most_common(y_train_1[i]))\n",
    "\n",
    "for j in range(0,len(y_test_1)):\n",
    "    y_test.append(most_common(y_test_1[j]))\n",
    "\n",
    "y_train = np.asarray(y_train)\n",
    "y_test = np.asarray(y_test)\n",
    "\n",
    "\n",
    "print(X_train.shape, y_train.shape, X_test.shape, y_test.shape)\n",
    "\n",
    "###USING SUPPORT VECTOR CLASSIFIER LIBRARY, OWN CODE ###\n",
    "clf = TimeSeriesSVC(kernel=\"gak\", sz=X_train.shape[1], d=1,gamma=\"auto\", probability=True)\n",
    "clf.fit(X_train, y_train)\n",
    "\n",
    "print(\"Correct classification rate: %s\" % clf.score(X_test, y_test))\n",
    "\n",
    "\n",
    "from sklearn.metrics import classification_report, confusion_matrix\n",
    "\n",
    "labels = {0: 'Unchanged', 1: 'UP', 2: 'DOWN'}\n",
    "\n",
    "label = clf.predict(X_test)\n",
    "print(classification_report(label, y_test,\n",
    "                            target_names=[l for l in labels.values()]))\n",
    "\n",
    "conf_mat = confusion_matrix(label, y_test)\n",
    "\n",
    "fig = plt.figure(figsize=(6,6))\n",
    "width = np.shape(conf_mat)[1]\n",
    "height = np.shape(conf_mat)[0]\n",
    "\n",
    "#plt.tight_layout()\n",
    "plt.ylabel('Predicted')\n",
    "plt.xlabel('Actual')\n",
    "\n",
    "res = plt.imshow(np.array(conf_mat), cmap=plt.cm.summer, interpolation='nearest')\n",
    "for i, row in enumerate(conf_mat):\n",
    "    for j, c in enumerate(row):\n",
    "        if c>0:\n",
    "            plt.text(j-.2, i+.1, c, fontsize=16)\n",
    "            \n",
    "cb = fig.colorbar(res)\n",
    "plt.title('Confusion Matrix')\n",
    "_ = plt.xticks(range(3), [l for l in labels.values()], rotation=90)\n",
    "_ = plt.yticks(range(3), [l for l in labels.values()])"
   ]
  },
  {
   "cell_type": "code",
   "execution_count": 16,
   "metadata": {},
   "outputs": [
    {
     "name": "stdout",
     "output_type": "stream",
     "text": [
      "Correct classification rate: 0.6\n"
     ]
    },
    {
     "name": "stderr",
     "output_type": "stream",
     "text": [
      "C:\\Users\\ADMIN\\Anaconda3\\lib\\site-packages\\sklearn\\metrics\\classification.py:1137: UndefinedMetricWarning: Recall and F-score are ill-defined and being set to 0.0 in labels with no true samples.\n",
      "  'recall', 'true', average, warn_for)\n"
     ]
    },
    {
     "name": "stdout",
     "output_type": "stream",
     "text": [
      "             precision    recall  f1-score   support\n",
      "\n",
      "  Unchanged       0.00      0.00      0.00         0\n",
      "         UP       1.00      0.60      0.75        55\n",
      "       DOWN       0.00      0.00      0.00         0\n",
      "\n",
      "avg / total       1.00      0.60      0.75        55\n",
      "\n"
     ]
    },
    {
     "data": {
      "image/png": "[encoded data removed]",
      "text/plain": [
       "<Figure size 432x432 with 2 Axes>"
      ]
     },
     "metadata": {},
     "output_type": "display_data"
    }
   ],
   "source": [
    "#validate 90 - 10\n",
    "\n",
    "print(\"Correct classification rate: %s\" % clf.score(X_valid, y_valid))\n",
    "\n",
    "label = clf.predict(X_valid)\n",
    "print(classification_report(label, y_valid,\n",
    "                            target_names=[l for l in labels.values()]))\n",
    "\n",
    "conf_mat = confusion_matrix(label, y_valid)\n",
    "\n",
    "fig = plt.figure(figsize=(6,6))\n",
    "width = np.shape(conf_mat)[1]\n",
    "height = np.shape(conf_mat)[0]\n",
    "\n",
    "#plt.tight_layout()\n",
    "plt.ylabel('Predicted')\n",
    "plt.xlabel('Actual')\n",
    "\n",
    "res = plt.imshow(np.array(conf_mat), cmap=plt.cm.summer, interpolation='nearest')\n",
    "for i, row in enumerate(conf_mat):\n",
    "    for j, c in enumerate(row):\n",
    "        if c>0:\n",
    "            plt.text(j-.2, i+.1, c, fontsize=16)\n",
    "            \n",
    "cb = fig.colorbar(res)\n",
    "plt.title('Confusion Matrix')\n",
    "_ = plt.xticks(range(3), [l for l in labels.values()], rotation=90)\n",
    "_ = plt.yticks(range(3), [l for l in labels.values()])"
   ]
  },
  {
   "cell_type": "code",
   "execution_count": null,
   "metadata": {},
   "outputs": [],
   "source": []
  }
 ],
 "metadata": {
  "kernelspec": {
   "display_name": "Python 3",
   "language": "python",
   "name": "python3"
  },
  "language_info": {
   "codemirror_mode": {
    "name": "ipython",
    "version": 3
   },
   "file_extension": ".py",
   "mimetype": "text/x-python",
   "name": "python",
   "nbconvert_exporter": "python",
   "pygments_lexer": "ipython3",
   "version": "3.6.5"
  }
 },
 "nbformat": 4,
 "nbformat_minor": 2
}
